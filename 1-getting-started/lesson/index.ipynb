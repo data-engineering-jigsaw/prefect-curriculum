{
 "cells": [
  {
   "attachments": {},
   "cell_type": "markdown",
   "id": "c56f8c1d-6ea3-4916-a81d-d8ae544e99dd",
   "metadata": {},
   "source": [
    "# Getting Started with Prefect"
   ]
  },
  {
   "attachments": {},
   "cell_type": "markdown",
   "id": "db1e791d-cb9d-4335-8760-e7a736d49ae0",
   "metadata": {},
   "source": [
    "### Introduction"
   ]
  },
  {
   "attachments": {},
   "cell_type": "markdown",
   "id": "2f1a5776-86fa-439f-bfd5-7639b11147d5",
   "metadata": {},
   "source": [
    "Prefect is popular software orchestrator, which will allow us to schedule different services, as well as schedule their execution.\n",
    "\n",
    "Let's dive in so we can begin to see how it works."
   ]
  },
  {
   "attachments": {},
   "cell_type": "markdown",
   "id": "84462eac-872c-4529-b270-0d854cc535f3",
   "metadata": {},
   "source": [
    "### Installing Prefect"
   ]
  },
  {
   "attachments": {},
   "cell_type": "markdown",
   "id": "eb501612-cb90-4863-8043-4f34b6c097b9",
   "metadata": {},
   "source": [
    "The first task for us to do is to install prefect.  Run the `requirements.txt` file.\n",
    "\n",
    "`pip install -r requirements.txt`\n",
    "\n",
    "Then take a look at our index file.  There you will see the following:"
   ]
  },
  {
   "attachments": {},
   "cell_type": "markdown",
   "id": "a4185cc5-de5d-4d2e-bb90-bdefbb40e91b",
   "metadata": {},
   "source": [
    "```python\n",
    "import requests\n",
    "from prefect import flow, task\n",
    "\n",
    "@task\n",
    "def find_receipts(name):\n",
    "    url = \"https://data.texas.gov/resource/naix-2893.json\"\n",
    "    response = requests.get(url, params = {'taxpayer_name': name})\n",
    "    return response.json()[:1]\n",
    "\n",
    "@flow\n",
    "def get_data(url):\n",
    "    receipts = find_receipts(url)\n",
    "    return receipts\n",
    "\n",
    "name = 'HONDURAS MAYA CAFE & BAR LLC'\n",
    "print(get_data(name))\n",
    "```"
   ]
  },
  {
   "attachments": {},
   "cell_type": "markdown",
   "id": "dabc1ad7-202b-4e93-8acb-7e0f58b06c75",
   "metadata": {},
   "source": [
    "As you can see, the file almost looks like normal python code.  At the bottom of the file, you can see that we call the `get_data` function.  This calls a **flow**, which then calls the `find_receipts` **task**. \n",
    "\n",
    "So a **flow** contains workflow logic.  And a flow has many **tasks**, where a task is a discrete unit of work in a workflow.  "
   ]
  },
  {
   "attachments": {},
   "cell_type": "markdown",
   "id": "395ab1b5-8566-435d-bc60-b8b46435fc87",
   "metadata": {},
   "source": [
    "Now let's run this flow.  We can do so like we run any other python file.\n",
    "\n",
    "```bash\n",
    "python3 index.py\n",
    "```"
   ]
  },
  {
   "attachments": {},
   "cell_type": "markdown",
   "id": "e41d7311-e455-431b-b905-82268d696fb2",
   "metadata": {},
   "source": [
    "<img src=\"./flow-run.png\" width=\"100%\">"
   ]
  },
  {
   "attachments": {},
   "cell_type": "markdown",
   "id": "b9397424-0475-4695-acac-162630813b9b",
   "metadata": {},
   "source": [
    "We can see that unlike with a python script, our flows and tasks log a lot of information.  Running the flow creates a **flow run** above named `hypnotica-jackal` -- just a random generated name.  And that flow run has a **task run** of the `find-receipts` task.\n",
    "\n",
    "> So to review, a flow has many tasks.  And an individual run is called a `flow-run` which has many `task-runs`.\n",
    "\n",
    "So the logging is an essential part of what prefect offers.  The log reports the time of both when the flow run begins and when the task run is executed, as well as if it succeeded.\n",
    "\n",
    "Even if we didn't see the log of the flow run in the console, we can view it by booting up the prefect server."
   ]
  },
  {
   "attachments": {},
   "cell_type": "markdown",
   "id": "fdc84230-a96e-4a77-9382-aa2ca5f444d1",
   "metadata": {},
   "source": [
    "### Viewing the prefect server"
   ]
  },
  {
   "attachments": {},
   "cell_type": "markdown",
   "id": "9e10c0a6-9c18-4446-ac24-8682dae20854",
   "metadata": {},
   "source": [
    "Ok, so now let's run the prefect server by typing the following in the command line."
   ]
  },
  {
   "attachments": {},
   "cell_type": "markdown",
   "id": "f5578575-2af6-4bbb-b6a7-4a2d944ec165",
   "metadata": {},
   "source": [
    "```bash\n",
    "prefect server start\n",
    "```"
   ]
  },
  {
   "attachments": {},
   "cell_type": "markdown",
   "id": "0375e8bf-5c05-4ab3-86de-11f92576f1f0",
   "metadata": {},
   "source": [
    "And if you click on `flows` over to the left, you can see our `get_data` flow."
   ]
  },
  {
   "attachments": {},
   "cell_type": "markdown",
   "id": "14ab8766-09cd-41d2-ab46-8ddde635e916",
   "metadata": {},
   "source": [
    "<img src=\"./flows.png\">"
   ]
  },
  {
   "attachments": {},
   "cell_type": "markdown",
   "id": "8564ab65-a034-42e0-b33a-650b8737d184",
   "metadata": {},
   "source": [
    "And then if you click on the flow runs panel on the left, we can see each of our past flow runs."
   ]
  },
  {
   "attachments": {},
   "cell_type": "markdown",
   "id": "7ad5e33e-686d-4f19-a12d-60cb57a4ff5f",
   "metadata": {},
   "source": [
    "<img src=\"./flow-runs.png\">"
   ]
  },
  {
   "attachments": {},
   "cell_type": "markdown",
   "id": "bc120a38-bae6-43fd-aac3-3cb1ab46add7",
   "metadata": {},
   "source": [
    "And then if we click on that flow run (here hypnotic jackal), and then click on logs, we can see those same logs about the flow run."
   ]
  },
  {
   "attachments": {},
   "cell_type": "markdown",
   "id": "74a9df53-02a7-48e4-83e4-142869bad8b7",
   "metadata": {},
   "source": [
    "<img src=\"./flow-log.png\" width=\"60%\">"
   ]
  },
  {
   "attachments": {},
   "cell_type": "markdown",
   "id": "f11478cb-3ce1-4b3f-ab7f-7cddb7eec9a0",
   "metadata": {},
   "source": [
    "So how does prefect maintain all of this information?  It turns out that prefect ships with a database, where it logs all of this information -- so we can see a history of how our flow runs performed."
   ]
  },
  {
   "attachments": {},
   "cell_type": "markdown",
   "id": "30435868-5f27-4072-a1e9-8ebd39ecd92b",
   "metadata": {},
   "source": [
    "### Working with Prefect Cloud "
   ]
  },
  {
   "attachments": {},
   "cell_type": "markdown",
   "id": "ffbabfc8-418e-43cb-9065-cdb310c85437",
   "metadata": {},
   "source": [
    "Now pretty soon, we'll see how to schedule these workflows.  And if we want to schedule these workflows to occur, it's best not to do so on our laptop (as then we'd have to keep it on and running prefect), but instead to move our workflow to the cloud.  \n",
    "\n",
    "Let's do that now.\n",
    "\n",
    "Begin by going to prefect.io, and then click on the login button on the top right -- or you can just click [here](https://app.prefect.cloud/auth/login)."
   ]
  },
  {
   "attachments": {},
   "cell_type": "markdown",
   "id": "8c595c7e-3190-493d-beeb-bd34c3b50e8c",
   "metadata": {},
   "source": [
    "From there, you can create a new account."
   ]
  },
  {
   "attachments": {},
   "cell_type": "markdown",
   "id": "25f98425-3b0e-474c-b01e-bf788eb67566",
   "metadata": {},
   "source": [
    "<img src=\"./create_account.png\" width=\"70%\">"
   ]
  },
  {
   "attachments": {},
   "cell_type": "markdown",
   "id": "e503de05-a536-49b6-b13a-963a9e5dfa63",
   "metadata": {},
   "source": [
    "And then create a workspace, which are used for organizing a collection of workflows (for example, maybe we have a workspace just related to marketing tasks). "
   ]
  },
  {
   "attachments": {},
   "cell_type": "markdown",
   "id": "a18f5e43-e527-46d2-ae2c-1cc5c8e3f6f1",
   "metadata": {},
   "source": [
    "Click on `Create Workspace`."
   ]
  },
  {
   "attachments": {},
   "cell_type": "markdown",
   "id": "c96f247a-7c13-4d6c-bff9-cf881b900a16",
   "metadata": {},
   "source": [
    "<img src=\"./create_workspace.png\" width=\"70%\">"
   ]
  },
  {
   "attachments": {},
   "cell_type": "markdown",
   "id": "4acd56f8-0d41-464d-a54b-ee6cfe2d13fc",
   "metadata": {},
   "source": [
    "And then enter the corresponding information."
   ]
  },
  {
   "attachments": {},
   "cell_type": "markdown",
   "id": "57314e8e-d409-415c-9da2-a6b4588a83fc",
   "metadata": {},
   "source": [
    "<img src=\"./tutorials.png\" width=\"100%\">"
   ]
  },
  {
   "attachments": {},
   "cell_type": "markdown",
   "id": "6b60ceef-b281-4890-b53f-6cd05b31e905",
   "metadata": {},
   "source": [
    "### Syncing with our computer"
   ]
  },
  {
   "attachments": {},
   "cell_type": "markdown",
   "id": "3c055364-3bfe-493f-a8ef-69c2cbfd50c9",
   "metadata": {},
   "source": [
    "From there, move to the bash terminal, where our codebase is, and type the following."
   ]
  },
  {
   "attachments": {},
   "cell_type": "markdown",
   "id": "e8cd04ca-9b8e-477d-b5f1-0b4b4951e829",
   "metadata": {},
   "source": [
    "```bash\n",
    "prefect cloud login\n",
    "```"
   ]
  },
  {
   "attachments": {},
   "cell_type": "markdown",
   "id": "fd3be35b",
   "metadata": {},
   "source": [
    "<img src=\"./logged-in.png\" width=\"80%\">"
   ]
  },
  {
   "attachments": {},
   "cell_type": "markdown",
   "id": "015ddae8-6f19-46dd-9d74-8f9625f08e6f",
   "metadata": {},
   "source": [
    "And from there, we can see a request to authenticate with our API key, so let's see where they are.\n",
    "\n",
    "From prefect cloud, click on our Profile, by clicking on our avatar in the bottom left (mine is the weird green icon), and from there click on the API keys panel."
   ]
  },
  {
   "attachments": {},
   "cell_type": "markdown",
   "id": "20053a27-16c5-4dd3-9583-365f8416d268",
   "metadata": {},
   "source": [
    "<img src=\"./api-keys.png\">"
   ]
  },
  {
   "attachments": {},
   "cell_type": "markdown",
   "id": "c8f1d2d4-71e0-4640-96f1-e5259bb681d5",
   "metadata": {},
   "source": [
    "And then just create a new api key."
   ]
  },
  {
   "attachments": {},
   "cell_type": "markdown",
   "id": "8667d720-18d0-4813-ba99-baa8c7db3c7b",
   "metadata": {},
   "source": [
    "<img src=\"./api-key.png\">"
   ]
  },
  {
   "attachments": {},
   "cell_type": "markdown",
   "id": "676951b1-a9db-49bb-9220-a9343a9a56e4",
   "metadata": {},
   "source": [
    "From there, we'll see our API key.  So now we can press the down arrow to `Paste an API key`, press return, then paste in our API key, and press return again."
   ]
  },
  {
   "attachments": {},
   "cell_type": "markdown",
   "id": "f8f67a9c-2448-42b3-8a90-39ed5f38da10",
   "metadata": {},
   "source": [
    "<img src=\"./logged-in.png\" width=\"80%\">"
   ]
  },
  {
   "attachments": {},
   "cell_type": "markdown",
   "id": "0d8b7dd4-9c50-4357-af2f-cdcdb8916b2b",
   "metadata": {},
   "source": [
    "Now from our terminal (on our local computer), run the flow again."
   ]
  },
  {
   "attachments": {},
   "cell_type": "markdown",
   "id": "184c69b0-13e8-483b-a4f8-fcc31e9836de",
   "metadata": {},
   "source": [
    "```bash\n",
    "python3 index.py\n",
    "```"
   ]
  },
  {
   "attachments": {},
   "cell_type": "markdown",
   "id": "c7c7d718-9cef-43a2-b38b-a79746954692",
   "metadata": {},
   "source": [
    "<img src=\"./run-flow.png\" width=\"100%\">"
   ]
  },
  {
   "attachments": {},
   "cell_type": "markdown",
   "id": "01cefcdf-4f51-44bf-98e9-acb04f531db0",
   "metadata": {},
   "source": [
    "We'll see the flow run locally, but then if we go to prefect cloud, and click on flows, we'll see our flow listed there -- along with information about the flow run we ran locally."
   ]
  },
  {
   "attachments": {},
   "cell_type": "markdown",
   "id": "6c59bc7c-7b19-4b85-9b9f-84efb30477be",
   "metadata": {},
   "source": [
    "<img src=\"./cloud-flows.png\" width=\"50%\">"
   ]
  },
  {
   "attachments": {},
   "cell_type": "markdown",
   "id": "73dd5e81-e693-442b-8fb8-d0845ba60044",
   "metadata": {},
   "source": [
    "### Summary"
   ]
  },
  {
   "attachments": {},
   "cell_type": "markdown",
   "id": "ec762afe-988e-4cc7-9f3e-bc94a9854a7a",
   "metadata": {},
   "source": [
    "Ok, so in this lesson we got started by installing prefect on our computer:\n",
    "\n",
    "`pip3 install prefect`\n",
    "\n",
    "And then we created a prefect flow, which is a workflow, and associated our first task to that workflow.  Remember that a task is just a discrete unit of work.\n",
    "\n",
    "```python\n",
    "@task\n",
    "def find_receipts(name):\n",
    "    url = \"https://data.texas.gov/resource/naix-2893.json\"\n",
    "    response = requests.get(url, params = {'taxpayer_name': name})\n",
    "    return response.json()[:1]\n",
    "\n",
    "@flow\n",
    "def get_data(url):\n",
    "    receipts = find_receipts(url)\n",
    "    return receipts\n",
    "\n",
    "name = 'HONDURAS MAYA CAFE & BAR LLC'\n",
    "print(get_data(name))\n",
    "```"
   ]
  },
  {
   "attachments": {},
   "cell_type": "markdown",
   "id": "1b7da128-3247-4a0a-a1cc-db58246e80ea",
   "metadata": {},
   "source": [
    "So we moving from the bottom to the top, we call our prefect flow, with `get_data(name)`.  And then in that flow, we call the our task `find_receipts`, just like we would a normal function.  The difference, is that prefect will log and provide information about these flow and task runs, which we saw by booting up the local prefect server.\n",
    "\n",
    "`prefect server start`\n",
    "\n",
    "And also saw with prefect cloud."
   ]
  },
  {
   "attachments": {},
   "cell_type": "markdown",
   "id": "ecd9a9ae-689d-4106-b9c4-17ca1f9aca52",
   "metadata": {},
   "source": [
    "### Resources\n",
    "\n",
    "[Prefect with Lambda and Snowflake](https://www.dataknowsall.com/prefectintro.html)"
   ]
  }
 ],
 "metadata": {
  "kernelspec": {
   "display_name": "Python 3 (ipykernel)",
   "language": "python",
   "name": "python3"
  },
  "language_info": {
   "codemirror_mode": {
    "name": "ipython",
    "version": 3
   },
   "file_extension": ".py",
   "mimetype": "text/x-python",
   "name": "python",
   "nbconvert_exporter": "python",
   "pygments_lexer": "ipython3",
   "version": "3.9.12"
  }
 },
 "nbformat": 4,
 "nbformat_minor": 5
}
