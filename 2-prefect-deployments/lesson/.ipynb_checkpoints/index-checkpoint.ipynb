{
 "cells": [
  {
   "cell_type": "markdown",
   "id": "cee40194-2059-400f-86fc-a061dccb4567",
   "metadata": {},
   "source": [
    "# Prefect Deployment"
   ]
  },
  {
   "cell_type": "markdown",
   "id": "ac314f9a-7c4f-45f2-bbf1-a41d34fc7d49",
   "metadata": {},
   "source": [
    "* deployment as configuration for managing flows, whether you run them via the CLI, the UI, or the API.\n",
    "\n"
   ]
  },
  {
   "cell_type": "markdown",
   "id": "a5bd1e54-0b48-4b76-b826-c2b893877fdc",
   "metadata": {},
   "source": [
    "* Creating a deployment for a Prefect workflow means packaging workflow code, settings, and infrastructure configuration so that the workflow can be managed via the Prefect API and run remotely by a Prefect agent.\n",
    "\n"
   ]
  },
  {
   "cell_type": "markdown",
   "id": "0f2a2a76-8d51-4090-a91f-a5e1bb401451",
   "metadata": {},
   "source": [
    "### Building a deployment"
   ]
  },
  {
   "cell_type": "markdown",
   "id": "9cebbb34-6fa2-4a08-b12d-42d28f44bac1",
   "metadata": {},
   "source": [
    "To create a deployment, first make sure that your local prefect server is started."
   ]
  },
  {
   "cell_type": "markdown",
   "id": "f020563b-a6e2-4fb8-9569-446101b9f302",
   "metadata": {},
   "source": [
    "```bash\n",
    "prefect server start\n",
    "```"
   ]
  },
  {
   "cell_type": "markdown",
   "id": "b3342580-d3e6-4dee-87b0-6fd7a96b3f18",
   "metadata": {},
   "source": [
    "Then, run something like the following:"
   ]
  },
  {
   "cell_type": "markdown",
   "id": "52ae061e-2711-447b-89ae-65aee04e298d",
   "metadata": {},
   "source": [
    "```bash\n",
    "prefect deployment build ./index.py:get_data -n get-restaurants -q test\n",
    "```"
   ]
  },
  {
   "cell_type": "markdown",
   "id": "be8e5f5e-8528-4d74-9fa3-b4a72c1954cb",
   "metadata": {},
   "source": [
    "Ok, so this is what we did with the above command:\n",
    "\n",
    "* `prefect deployment build` is the standard command for building a deployment\n",
    "* `./index.py:get_data` specifies the entrypoint flow function, with the file followed by the name of the function\n",
    "* `-n get-restaurants` specifies the deployment name.\n",
    "* `-q test` is the work pool for the deployment. Where a work pool directs a scheduled runs to an agent."
   ]
  },
  {
   "cell_type": "markdown",
   "id": "bc74cfb3-6b95-4a1a-b3f0-8675e76c71b7",
   "metadata": {},
   "source": [
    "After running the above you'll see that we have a new file `get_data-deployment.yaml`.  If you look through the new yaml file, you'll see some of our specifications, as well as other information that prefect filled in."
   ]
  },
  {
   "cell_type": "markdown",
   "id": "8b16e0c3-3d31-4a91-9393-e6c46cc4d149",
   "metadata": {},
   "source": [
    "And we'll want to pass a parameter to our flow.  So we can do that by updating our deployment to pass in a parameter."
   ]
  },
  {
   "cell_type": "markdown",
   "id": "c3e63618-8de6-4525-9ca0-b33c97857744",
   "metadata": {},
   "source": [
    "```yaml\n",
    "parameters: {'url': 'HONDURAS MAYA CAFE & BAR LLC'}\n",
    "```"
   ]
  },
  {
   "cell_type": "markdown",
   "id": "37842a61-baf2-4caa-98d8-63ac4b553566",
   "metadata": {},
   "source": [
    "### Adding a schedule"
   ]
  },
  {
   "cell_type": "markdown",
   "id": "a86759f5-7396-446d-904d-4ad577aab51d",
   "metadata": {},
   "source": [
    "Now one attribute that is not filled in is a [schedule](https://docs.prefect.io/2.10.12/concepts/schedules/), indicating how often we would like this deployment to be run.  So let's update the `schedule` attribute in our deployment yaml file.  To do so change:"
   ]
  },
  {
   "cell_type": "markdown",
   "id": "4811577e-d088-45f1-a0c4-24cd0b4fc5d3",
   "metadata": {},
   "source": [
    "```yaml\n",
    "schedule: null\n",
    "```"
   ]
  },
  {
   "cell_type": "markdown",
   "id": "7da5f149-9baa-4e39-8747-0bb5185b834a",
   "metadata": {},
   "source": [
    "To the following:"
   ]
  },
  {
   "cell_type": "markdown",
   "id": "daae7230-4a41-4d49-9ebb-bfeec657fbe8",
   "metadata": {},
   "source": [
    "```yaml\n",
    "schedule:\n",
    "  interval: 60\n",
    "  timezone: America/Chicago\n",
    "```"
   ]
  },
  {
   "cell_type": "markdown",
   "id": "8505a9de-07ea-4eb6-b14a-101c5eb14fe9",
   "metadata": {},
   "source": [
    "This will specify to run the deployment every minute. "
   ]
  },
  {
   "cell_type": "markdown",
   "id": "cf82724c-856e-4190-88f0-d805058e12b1",
   "metadata": {},
   "source": [
    "We can then create the deployment on the prefect server with the following:"
   ]
  },
  {
   "cell_type": "markdown",
   "id": "7a488d7c-8a47-4c20-9b52-663ffa45b070",
   "metadata": {},
   "source": [
    "```bash\n",
    "prefect deployment apply get_data-deployment.yaml\n",
    "```"
   ]
  },
  {
   "cell_type": "markdown",
   "id": "34048111-2ca9-4044-8da4-903c86183aa1",
   "metadata": {},
   "source": [
    "You can see information about the deployment if you go to prefect cloud, click on deployments, and then click on the name of the deployment."
   ]
  },
  {
   "cell_type": "markdown",
   "id": "6018301c-2160-4dfd-af25-93f7e623f27a",
   "metadata": {},
   "source": [
    "<img src=\"./see-deployment.png\" width=\"50%\">"
   ]
  },
  {
   "cell_type": "markdown",
   "id": "f3e900fd-13e0-4718-8bb8-7f155a5978db",
   "metadata": {},
   "source": [
    "You'll see this is unhealthy. "
   ]
  },
  {
   "cell_type": "markdown",
   "id": "a60a5561-c7ed-4138-af78-f98372af1286",
   "metadata": {},
   "source": [
    "<img src=\"./unhealthy.png\">"
   ]
  },
  {
   "cell_type": "markdown",
   "id": "fcf07741-2b39-49f4-bbf6-9490bfb9517d",
   "metadata": {},
   "source": [
    "But you can fix this by assigning a work pool."
   ]
  },
  {
   "cell_type": "markdown",
   "id": "b321ab47-502d-46dc-8289-51d837e0139b",
   "metadata": {},
   "source": [
    "> Work queues are scoped to a work pool to allow agents to pull from groups of queues with different priorities."
   ]
  },
  {
   "cell_type": "markdown",
   "id": "8bfd8887-cba4-4b1e-b070-8f1b5ef81562",
   "metadata": {},
   "source": [
    "<img src=\"./workqueue.png\">"
   ]
  },
  {
   "cell_type": "markdown",
   "id": "47021d4d-e42c-4f8a-aa66-176766ad57d4",
   "metadata": {},
   "source": [
    "And then if we would like to stop a deployment, we can do so by going to prefect cloud, clicking on deployments and clicking on the button over to the right so that it is no longer green."
   ]
  },
  {
   "cell_type": "markdown",
   "id": "28279f89-449b-4fa2-bb10-3ca54a935c92",
   "metadata": {},
   "source": [
    "<img src=\"./deployment-pause.png\">"
   ]
  },
  {
   "cell_type": "code",
   "execution_count": null,
   "id": "cf63a326-0a19-4317-93de-58438c6e9fde",
   "metadata": {},
   "outputs": [],
   "source": []
  }
 ],
 "metadata": {
  "kernelspec": {
   "display_name": "Python 3 (ipykernel)",
   "language": "python",
   "name": "python3"
  },
  "language_info": {
   "codemirror_mode": {
    "name": "ipython",
    "version": 3
   },
   "file_extension": ".py",
   "mimetype": "text/x-python",
   "name": "python",
   "nbconvert_exporter": "python",
   "pygments_lexer": "ipython3",
   "version": "3.9.12"
  }
 },
 "nbformat": 4,
 "nbformat_minor": 5
}
